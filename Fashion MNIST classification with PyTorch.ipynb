{
 "cells": [
  {
   "cell_type": "code",
   "execution_count": 1,
   "metadata": {},
   "outputs": [],
   "source": [
    "%matplotlib inline\n",
    "import torch\n",
    "import torchvision\n",
    "import torchvision.transforms as transforms\n",
    "import torch.nn               as nn\n",
    "import torch.nn.functional    as F\n",
    "import torch.optim            as optim\n",
    "from torch.autograd import Variable\n",
    "\n",
    "import matplotlib.pyplot as plt\n",
    "import numpy as np"
   ]
  },
  {
   "cell_type": "code",
   "execution_count": 2,
   "metadata": {},
   "outputs": [],
   "source": [
    "cuda = True"
   ]
  },
  {
   "cell_type": "code",
   "execution_count": 3,
   "metadata": {},
   "outputs": [],
   "source": [
    "batch_size = 256"
   ]
  },
  {
   "cell_type": "code",
   "execution_count": 4,
   "metadata": {},
   "outputs": [],
   "source": [
    "transform = transforms.Compose([\n",
    "    transforms.RandomHorizontalFlip(),\n",
    "    transforms.ColorJitter(),\n",
    "    transforms.RandomRotation(35),\n",
    "    transforms.ToTensor(),\n",
    "    transforms.Normalize((0.5,), (0.5,))\n",
    "])"
   ]
  },
  {
   "cell_type": "code",
   "execution_count": 5,
   "metadata": {},
   "outputs": [],
   "source": [
    "trainset = torchvision.datasets.FashionMNIST(\n",
    "    root      = './data/', \n",
    "    train     = True,\n",
    "    download  = True,\n",
    "    transform = transform\n",
    ")\n",
    "trainloader = torch.utils.data.DataLoader(\n",
    "    dataset     = trainset,\n",
    "    batch_size  = batch_size,\n",
    "    shuffle     = True,\n",
    "    num_workers = 2\n",
    ")\n",
    "testset = torchvision.datasets.FashionMNIST(\n",
    "    root      = './data/', \n",
    "    train     = False,\n",
    "    download  = True,\n",
    "    transform = transform\n",
    ")\n",
    "testloader = torch.utils.data.DataLoader(\n",
    "    dataset     = testset,\n",
    "    batch_size  = batch_size,\n",
    "    shuffle     = True,\n",
    "    num_workers = 2\n",
    ")\n",
    "classes = (\n",
    "    'top',\n",
    "    'trouser',\n",
    "    'pullover',\n",
    "    'dress',\n",
    "    'coat',\n",
    "    'sandal',\n",
    "    'shirt',\n",
    "    'sneaker',\n",
    "    'bag',\n",
    "    'boot'\n",
    ")"
   ]
  },
  {
   "cell_type": "code",
   "execution_count": 6,
   "metadata": {},
   "outputs": [],
   "source": [
    "def imshow(img):\n",
    "    img   = img / 2 + 0.5\n",
    "    npimg = img.numpy()\n",
    "    plt.imshow(np.transpose(npimg, (1, 2, 0)))"
   ]
  },
  {
   "cell_type": "code",
   "execution_count": 7,
   "metadata": {},
   "outputs": [],
   "source": [
    "dataiter       = iter(trainloader)\n",
    "images, labels = dataiter.next()"
   ]
  },
  {
   "cell_type": "code",
   "execution_count": 8,
   "metadata": {},
   "outputs": [
    {
     "data": {
      "image/png": "[encoded data removed]",
      "text/plain": [
       "<matplotlib.figure.Figure at 0x7fc9525cecc0>"
      ]
     },
     "metadata": {},
     "output_type": "display_data"
    }
   ],
   "source": [
    "imshow(torchvision.utils.make_grid(images))"
   ]
  },
  {
   "cell_type": "code",
   "execution_count": 9,
   "metadata": {},
   "outputs": [
    {
     "data": {
      "text/plain": [
       "'trouser, pullover, trouser, pullover, shirt, shirt, boot, shirt, coat, dress, shirt, coat, boot, boot, dress, top, trouser, trouser, sandal, sneaker, sneaker, trouser, dress, sandal, coat, pullover, coat, sneaker, top, top, boot, sandal, pullover, sandal, coat, dress, shirt, sneaker, coat, dress, coat, boot, sandal, bag, trouser, sneaker, coat, trouser, boot, sandal, sneaker, coat, top, coat, pullover, sneaker, top, dress, sneaker, shirt, bag, pullover, boot, coat, sneaker, boot, sneaker, dress, top, bag, sandal, bag, shirt, boot, bag, trouser, top, dress, pullover, sneaker, boot, top, bag, dress, pullover, trouser, trouser, bag, dress, bag, top, trouser, sneaker, bag, bag, sandal, sneaker, bag, coat, dress, boot, sandal, boot, trouser, shirt, bag, boot, boot, trouser, sandal, dress, coat, trouser, trouser, shirt, top, sneaker, boot, boot, sandal, sneaker, shirt, boot, pullover, top, boot, top, sandal, trouser, sneaker, sandal, boot, top, bag, shirt, shirt, bag, trouser, sneaker, trouser, dress, bag, pullover, bag, bag, trouser, sandal, coat, dress, pullover, shirt, top, boot, pullover, sandal, sneaker, shirt, boot, top, bag, bag, bag, boot, trouser, shirt, boot, shirt, sneaker, top, sneaker, shirt, trouser, boot, shirt, coat, pullover, coat, bag, sneaker, coat, bag, boot, coat, boot, sandal, pullover, dress, coat, top, sneaker, sandal, dress, pullover, pullover, bag, bag, coat, trouser, bag, bag, bag, shirt, bag, trouser, trouser, boot, dress, coat, sandal, shirt, coat, coat, dress, coat, trouser, pullover, shirt, sneaker, pullover, dress, sneaker, boot, trouser, pullover, shirt, shirt, sandal, dress, boot, trouser, trouser, sneaker, dress, sneaker, coat, bag, trouser, top, dress, sandal, coat, coat, sneaker, bag, top, dress, pullover, shirt, trouser, pullover, dress, sandal, top, dress, boot, shirt'"
      ]
     },
     "execution_count": 9,
     "metadata": {},
     "output_type": "execute_result"
    }
   ],
   "source": [
    "', '.join(classes[c] for c in labels)"
   ]
  },
  {
   "cell_type": "code",
   "execution_count": 10,
   "metadata": {},
   "outputs": [],
   "source": [
    "class CNN(nn.Module):\n",
    "    def __init__(self):\n",
    "        super(CNN, self).__init__()\n",
    "        self.conv1 = nn.Conv2d(1  , 64 , 3, padding = 1)\n",
    "        self.conv2 = nn.Conv2d(64 , 64 , 3, padding = 1)\n",
    "        self.conv3 = nn.Conv2d(64 , 64 , 3, padding = 1)\n",
    "        self.conv4 = nn.Conv2d(64 , 128 , 3, padding = 1)\n",
    "        self.conv5 = nn.Conv2d(128, 128, 3, padding = 1)\n",
    "        self.conv6 = nn.Conv2d(128, 128, 3, padding = 1)\n",
    "        self.fc1   = nn.Linear(128 * 7 * 7, 512)\n",
    "        self.fc2   = nn.Linear(512, 512)\n",
    "        self.fc3   = nn.Linear(512, 512)\n",
    "        self.fc4   = nn.Linear(512, 10)\n",
    "        self.bn1   = nn.BatchNorm2d(64)\n",
    "        self.bn2   = nn.BatchNorm2d(64)\n",
    "        self.bn3   = nn.BatchNorm2d(64)\n",
    "        self.bn4   = nn.BatchNorm2d(128)\n",
    "        self.bn5   = nn.BatchNorm2d(128)\n",
    "        self.bn6   = nn.BatchNorm2d(128)\n",
    "        self.bn7   = nn.BatchNorm1d(512)\n",
    "        self.bn8   = nn.BatchNorm1d(512)\n",
    "        self.bn9   = nn.BatchNorm1d(512)\n",
    "        \n",
    "    def forward(self, x):\n",
    "        x = F.dropout(F.relu(self.bn1(self.conv1(x))), 0.7)\n",
    "        x = F.dropout(F.relu(self.bn2(self.conv2(x))), 0.7)\n",
    "        x = F.dropout(F.relu(self.bn3(self.conv3(x))), 0.7)\n",
    "        x = F.max_pool2d(x, (2, 2))\n",
    "        x = F.dropout(F.relu(self.bn4(self.conv4(x))), 0.5)\n",
    "        x = F.dropout(F.relu(self.bn5(self.conv5(x))), 0.5)\n",
    "        x = F.dropout(F.relu(self.bn6(self.conv6(x))), 0.5)\n",
    "        x = F.max_pool2d(x, (2, 2))\n",
    "        x = x.view(-1, 128 * 7 * 7)\n",
    "        x = F.dropout(F.relu(self.bn7(self.fc1(x))), 0.3)\n",
    "        x = F.dropout(F.relu(self.bn8(self.fc2(x))), 0.3)\n",
    "        x = F.dropout(F.relu(self.bn9(self.fc3(x))), 0.3)\n",
    "        x = self.fc4(x)\n",
    "        \n",
    "        return x"
   ]
  },
  {
   "cell_type": "code",
   "execution_count": 11,
   "metadata": {},
   "outputs": [],
   "source": [
    "cnn       = CNN().cuda() if cuda else CNN()\n",
    "criterion = nn.CrossEntropyLoss()\n",
    "optimizer = optim.Adam(cnn.parameters())\n",
    "epoch     = 40\n",
    "print_int = 100"
   ]
  },
  {
   "cell_type": "code",
   "execution_count": 12,
   "metadata": {},
   "outputs": [],
   "source": [
    "def validate_model(train = True):\n",
    "    cnn.eval()\n",
    "    total_loss            = 0.0\n",
    "    total_prediction      = 0\n",
    "    total_good_prediction = 0\n",
    "    batch_number          = 0\n",
    "    for X, y in trainloader if train else testloader:\n",
    "        X, y = Variable(X), Variable(y)\n",
    "        X, y = (X.cuda(), y.cuda()) if cuda else (X, y)\n",
    "\n",
    "        y_pred                 = cnn(X)\n",
    "        total_loss            += criterion(y_pred, y).data[0]\n",
    "        total_prediction      += y_pred.size()[0]\n",
    "        total_good_prediction += (y_pred.max(dim = 1)[1].data.cpu() == y.data.cpu()).sum()\n",
    "        batch_number          += 1\n",
    "    \n",
    "    return total_loss / batch_number, 100 * total_good_prediction / total_prediction "
   ]
  },
  {
   "cell_type": "code",
   "execution_count": 13,
   "metadata": {},
   "outputs": [
    {
     "name": "stdout",
     "output_type": "stream",
     "text": [
      "[1  |     0]running_loss=2.329, train: loss=2.30273, acc=10.00%|val: loss=2.30270, acc=10.00%\n",
      "[1  |   100]running_loss=0.604, train: loss=0.44544, acc=83.38%|val: loss=0.47631, acc=82.52%\n",
      "[1  |   200]running_loss=0.407, train: loss=0.42736, acc=84.15%|val: loss=0.44549, acc=83.54%\n",
      "[2  |     0]running_loss=0.408, train: loss=0.54275, acc=80.52%|val: loss=0.56804, acc=79.22%\n",
      "[2  |   100]running_loss=0.342, train: loss=0.34125, acc=87.49%|val: loss=0.36880, acc=86.39%\n",
      "[2  |   200]running_loss=0.321, train: loss=0.36695, acc=86.54%|val: loss=0.39521, acc=85.77%\n",
      "[3  |     0]running_loss=0.333, train: loss=0.31866, acc=88.36%|val: loss=0.34598, acc=87.40%\n",
      "[3  |   100]running_loss=0.290, train: loss=0.27339, acc=90.14%|val: loss=0.30633, acc=89.02%\n",
      "[3  |   200]running_loss=0.285, train: loss=0.26173, acc=90.19%|val: loss=0.29155, acc=89.35%\n",
      "[4  |     0]running_loss=0.283, train: loss=0.27016, acc=90.04%|val: loss=0.30160, acc=89.18%\n",
      "[4  |   100]running_loss=0.264, train: loss=0.24401, acc=91.08%|val: loss=0.28433, acc=89.62%\n",
      "[4  |   200]running_loss=0.256, train: loss=0.24049, acc=91.18%|val: loss=0.28004, acc=89.86%\n",
      "[5  |     0]running_loss=0.248, train: loss=0.24188, acc=91.23%|val: loss=0.28350, acc=90.03%\n",
      "[5  |   100]running_loss=0.245, train: loss=0.23441, acc=91.28%|val: loss=0.28512, acc=90.16%\n",
      "[5  |   200]running_loss=0.242, train: loss=0.25168, acc=90.73%|val: loss=0.30077, acc=89.43%\n",
      "[6  |     0]running_loss=0.200, train: loss=0.23184, acc=91.61%|val: loss=0.27584, acc=90.09%\n",
      "[6  |   100]running_loss=0.235, train: loss=0.22621, acc=91.58%|val: loss=0.26699, acc=90.45%\n",
      "[6  |   200]running_loss=0.234, train: loss=0.21504, acc=92.08%|val: loss=0.25877, acc=90.43%\n",
      "[7  |     0]running_loss=0.173, train: loss=0.22140, acc=91.78%|val: loss=0.26291, acc=90.41%\n",
      "[7  |   100]running_loss=0.221, train: loss=0.20849, acc=92.36%|val: loss=0.25112, acc=90.70%\n",
      "[7  |   200]running_loss=0.219, train: loss=0.22682, acc=91.55%|val: loss=0.26571, acc=90.21%\n",
      "[8  |     0]running_loss=0.178, train: loss=0.21371, acc=92.00%|val: loss=0.25997, acc=90.41%\n",
      "[8  |   100]running_loss=0.212, train: loss=0.21148, acc=92.27%|val: loss=0.26290, acc=90.85%\n",
      "[8  |   200]running_loss=0.212, train: loss=0.20825, acc=92.36%|val: loss=0.25475, acc=91.08%\n",
      "[9  |     0]running_loss=0.174, train: loss=0.20739, acc=92.31%|val: loss=0.26098, acc=90.59%\n",
      "[9  |   100]running_loss=0.201, train: loss=0.19031, acc=92.98%|val: loss=0.23584, acc=91.40%\n",
      "[9  |   200]running_loss=0.200, train: loss=0.19074, acc=93.01%|val: loss=0.24117, acc=91.61%\n",
      "[10 |     0]running_loss=0.197, train: loss=0.20382, acc=92.61%|val: loss=0.25846, acc=90.83%\n",
      "[10 |   100]running_loss=0.198, train: loss=0.19941, acc=92.81%|val: loss=0.24725, acc=90.97%\n",
      "[10 |   200]running_loss=0.192, train: loss=0.18383, acc=93.25%|val: loss=0.22823, acc=91.82%\n",
      "[11 |     0]running_loss=0.166, train: loss=0.19900, acc=92.52%|val: loss=0.26531, acc=90.66%\n",
      "[11 |   100]running_loss=0.189, train: loss=0.18413, acc=93.10%|val: loss=0.24540, acc=91.13%\n",
      "[11 |   200]running_loss=0.184, train: loss=0.19248, acc=92.87%|val: loss=0.25089, acc=91.20%\n",
      "[12 |     0]running_loss=0.178, train: loss=0.18112, acc=93.33%|val: loss=0.23589, acc=91.81%\n",
      "[12 |   100]running_loss=0.180, train: loss=0.18061, acc=93.33%|val: loss=0.23575, acc=91.66%\n",
      "[12 |   200]running_loss=0.185, train: loss=0.17027, acc=93.84%|val: loss=0.23282, acc=91.63%\n",
      "[13 |     0]running_loss=0.223, train: loss=0.18533, acc=93.16%|val: loss=0.24023, acc=91.35%\n",
      "[13 |   100]running_loss=0.179, train: loss=0.17240, acc=93.64%|val: loss=0.23359, acc=91.68%\n",
      "[13 |   200]running_loss=0.176, train: loss=0.16519, acc=93.89%|val: loss=0.22200, acc=92.01%\n",
      "[14 |     0]running_loss=0.201, train: loss=0.16033, acc=94.09%|val: loss=0.21798, acc=91.96%\n",
      "[14 |   100]running_loss=0.167, train: loss=0.16597, acc=93.87%|val: loss=0.22458, acc=91.85%\n",
      "[14 |   200]running_loss=0.171, train: loss=0.15532, acc=94.32%|val: loss=0.21384, acc=92.31%\n",
      "[15 |     0]running_loss=0.090, train: loss=0.15400, acc=94.31%|val: loss=0.22747, acc=92.45%\n",
      "[15 |   100]running_loss=0.156, train: loss=0.16388, acc=94.01%|val: loss=0.22847, acc=91.55%\n",
      "[15 |   200]running_loss=0.168, train: loss=0.15211, acc=94.39%|val: loss=0.21685, acc=92.20%\n",
      "[16 |     0]running_loss=0.160, train: loss=0.16037, acc=93.97%|val: loss=0.24106, acc=91.88%\n",
      "[16 |   100]running_loss=0.160, train: loss=0.17017, acc=93.61%|val: loss=0.24050, acc=91.24%\n",
      "[16 |   200]running_loss=0.168, train: loss=0.14976, acc=94.46%|val: loss=0.21551, acc=92.35%\n",
      "[17 |     0]running_loss=0.167, train: loss=0.14912, acc=94.39%|val: loss=0.23026, acc=92.15%\n",
      "[17 |   100]running_loss=0.155, train: loss=0.15200, acc=94.24%|val: loss=0.22711, acc=91.78%\n",
      "[17 |   200]running_loss=0.156, train: loss=0.14142, acc=94.85%|val: loss=0.21813, acc=92.36%\n",
      "[18 |     0]running_loss=0.145, train: loss=0.14086, acc=94.67%|val: loss=0.21145, acc=92.77%\n",
      "[18 |   100]running_loss=0.152, train: loss=0.14610, acc=94.52%|val: loss=0.21877, acc=92.11%\n",
      "[18 |   200]running_loss=0.156, train: loss=0.14728, acc=94.60%|val: loss=0.21546, acc=92.48%\n",
      "[19 |     0]running_loss=0.106, train: loss=0.14975, acc=94.45%|val: loss=0.22780, acc=92.10%\n",
      "[19 |   100]running_loss=0.148, train: loss=0.13494, acc=95.03%|val: loss=0.21354, acc=92.45%\n",
      "[19 |   200]running_loss=0.146, train: loss=0.14891, acc=94.47%|val: loss=0.24053, acc=91.82%\n",
      "[20 |     0]running_loss=0.142, train: loss=0.14110, acc=94.86%|val: loss=0.21705, acc=92.55%\n",
      "[20 |   100]running_loss=0.137, train: loss=0.13681, acc=94.98%|val: loss=0.22179, acc=92.64%\n",
      "[20 |   200]running_loss=0.144, train: loss=0.13215, acc=95.09%|val: loss=0.20306, acc=93.05%\n",
      "[21 |     0]running_loss=0.141, train: loss=0.13353, acc=95.04%|val: loss=0.20924, acc=92.48%\n",
      "[21 |   100]running_loss=0.134, train: loss=0.13233, acc=95.01%|val: loss=0.21464, acc=92.68%\n",
      "[21 |   200]running_loss=0.142, train: loss=0.12968, acc=95.14%|val: loss=0.21836, acc=92.59%\n",
      "[22 |     0]running_loss=0.123, train: loss=0.13268, acc=95.08%|val: loss=0.21612, acc=92.68%\n",
      "[22 |   100]running_loss=0.135, train: loss=0.13419, acc=94.97%|val: loss=0.22208, acc=92.36%\n",
      "[22 |   200]running_loss=0.136, train: loss=0.12695, acc=95.34%|val: loss=0.21562, acc=92.88%\n",
      "[23 |     0]running_loss=0.119, train: loss=0.13775, acc=94.95%|val: loss=0.23173, acc=92.39%\n",
      "[23 |   100]running_loss=0.129, train: loss=0.13855, acc=94.81%|val: loss=0.22724, acc=92.04%\n",
      "[23 |   200]running_loss=0.134, train: loss=0.13235, acc=95.11%|val: loss=0.22569, acc=92.34%\n",
      "[24 |     0]running_loss=0.127, train: loss=0.12842, acc=95.15%|val: loss=0.21825, acc=92.41%\n",
      "[24 |   100]running_loss=0.124, train: loss=0.11737, acc=95.67%|val: loss=0.21030, acc=92.74%\n",
      "[24 |   200]running_loss=0.130, train: loss=0.11642, acc=95.69%|val: loss=0.20767, acc=92.97%\n",
      "[25 |     0]running_loss=0.125, train: loss=0.11678, acc=95.73%|val: loss=0.21051, acc=93.01%\n",
      "[25 |   100]running_loss=0.118, train: loss=0.11003, acc=95.94%|val: loss=0.20377, acc=92.99%\n",
      "[25 |   200]running_loss=0.128, train: loss=0.11322, acc=95.87%|val: loss=0.21385, acc=92.74%\n",
      "[26 |     0]running_loss=0.123, train: loss=0.12274, acc=95.38%|val: loss=0.22521, acc=92.24%\n",
      "[26 |   100]running_loss=0.121, train: loss=0.10898, acc=95.92%|val: loss=0.21394, acc=92.76%\n",
      "[26 |   200]running_loss=0.120, train: loss=0.11002, acc=95.76%|val: loss=0.21972, acc=92.64%\n",
      "[27 |     0]running_loss=0.110, train: loss=0.11901, acc=95.49%|val: loss=0.22634, acc=92.16%\n",
      "[27 |   100]running_loss=0.117, train: loss=0.11211, acc=95.83%|val: loss=0.20687, acc=92.81%\n",
      "[27 |   200]running_loss=0.113, train: loss=0.10490, acc=96.09%|val: loss=0.21823, acc=92.89%\n",
      "[28 |     0]running_loss=0.064, train: loss=0.11050, acc=95.92%|val: loss=0.21324, acc=92.73%\n",
      "[28 |   100]running_loss=0.113, train: loss=0.11267, acc=95.86%|val: loss=0.23205, acc=92.54%\n",
      "[28 |   200]running_loss=0.114, train: loss=0.11422, acc=95.67%|val: loss=0.21368, acc=92.86%\n",
      "[29 |     0]running_loss=0.116, train: loss=0.10209, acc=96.19%|val: loss=0.20543, acc=93.07%\n",
      "[29 |   100]running_loss=0.107, train: loss=0.10829, acc=96.00%|val: loss=0.22569, acc=92.79%\n",
      "[29 |   200]running_loss=0.114, train: loss=0.11273, acc=95.89%|val: loss=0.22247, acc=92.66%\n",
      "[30 |     0]running_loss=0.063, train: loss=0.10883, acc=96.01%|val: loss=0.21368, acc=92.71%\n"
     ]
    },
    {
     "name": "stdout",
     "output_type": "stream",
     "text": [
      "[30 |   100]running_loss=0.107, train: loss=0.09886, acc=96.26%|val: loss=0.20632, acc=93.14%\n",
      "[30 |   200]running_loss=0.106, train: loss=0.09877, acc=96.26%|val: loss=0.21319, acc=93.06%\n",
      "[31 |     0]running_loss=0.104, train: loss=0.09871, acc=96.32%|val: loss=0.21449, acc=92.70%\n",
      "[31 |   100]running_loss=0.101, train: loss=0.09404, acc=96.49%|val: loss=0.20317, acc=93.19%\n",
      "[31 |   200]running_loss=0.108, train: loss=0.10240, acc=96.21%|val: loss=0.22745, acc=92.65%\n",
      "[32 |     0]running_loss=0.069, train: loss=0.10077, acc=96.28%|val: loss=0.21508, acc=93.04%\n",
      "[32 |   100]running_loss=0.102, train: loss=0.08979, acc=96.62%|val: loss=0.21483, acc=93.01%\n",
      "[32 |   200]running_loss=0.104, train: loss=0.09878, acc=96.36%|val: loss=0.22582, acc=92.91%\n",
      "[33 |     0]running_loss=0.130, train: loss=0.09868, acc=96.22%|val: loss=0.22179, acc=92.78%\n",
      "[33 |   100]running_loss=0.099, train: loss=0.10692, acc=96.02%|val: loss=0.23360, acc=92.74%\n",
      "[33 |   200]running_loss=0.100, train: loss=0.09717, acc=96.31%|val: loss=0.22608, acc=92.89%\n",
      "[34 |     0]running_loss=0.148, train: loss=0.08845, acc=96.75%|val: loss=0.21086, acc=93.41%\n",
      "[34 |   100]running_loss=0.096, train: loss=0.08727, acc=96.81%|val: loss=0.21294, acc=92.91%\n",
      "[34 |   200]running_loss=0.098, train: loss=0.08949, acc=96.63%|val: loss=0.21795, acc=92.73%\n",
      "[35 |     0]running_loss=0.090, train: loss=0.08497, acc=96.83%|val: loss=0.22073, acc=93.09%\n",
      "[35 |   100]running_loss=0.087, train: loss=0.08466, acc=96.85%|val: loss=0.23025, acc=93.31%\n",
      "[35 |   200]running_loss=0.101, train: loss=0.09053, acc=96.61%|val: loss=0.22027, acc=92.72%\n",
      "[36 |     0]running_loss=0.088, train: loss=0.08780, acc=96.75%|val: loss=0.21587, acc=93.03%\n",
      "[36 |   100]running_loss=0.089, train: loss=0.08288, acc=96.99%|val: loss=0.22007, acc=93.06%\n",
      "[36 |   200]running_loss=0.095, train: loss=0.09035, acc=96.59%|val: loss=0.24456, acc=92.79%\n",
      "[37 |     0]running_loss=0.091, train: loss=0.08601, acc=96.75%|val: loss=0.22175, acc=92.85%\n",
      "[37 |   100]running_loss=0.086, train: loss=0.08178, acc=97.00%|val: loss=0.23299, acc=93.34%\n",
      "[37 |   200]running_loss=0.091, train: loss=0.07938, acc=97.01%|val: loss=0.22418, acc=93.20%\n",
      "[38 |     0]running_loss=0.060, train: loss=0.07694, acc=97.12%|val: loss=0.23462, acc=93.17%\n",
      "[38 |   100]running_loss=0.083, train: loss=0.07613, acc=97.21%|val: loss=0.21813, acc=93.12%\n",
      "[38 |   200]running_loss=0.088, train: loss=0.09608, acc=96.43%|val: loss=0.24716, acc=92.11%\n",
      "[39 |     0]running_loss=0.076, train: loss=0.07884, acc=97.00%|val: loss=0.22270, acc=93.01%\n",
      "[39 |   100]running_loss=0.084, train: loss=0.07560, acc=97.22%|val: loss=0.22036, acc=93.06%\n",
      "[39 |   200]running_loss=0.085, train: loss=0.07819, acc=97.10%|val: loss=0.23361, acc=92.96%\n",
      "[40 |     0]running_loss=0.075, train: loss=0.08104, acc=96.96%|val: loss=0.21598, acc=93.36%\n",
      "[40 |   100]running_loss=0.078, train: loss=0.07098, acc=97.38%|val: loss=0.21198, acc=93.51%\n",
      "[40 |   200]running_loss=0.083, train: loss=0.07762, acc=97.15%|val: loss=0.23755, acc=93.04%\n"
     ]
    }
   ],
   "source": [
    "for i in range(epoch):\n",
    "    running_loss = 0\n",
    "    for j, (X_train, y_train) in enumerate(trainloader):\n",
    "        cnn.train()\n",
    "        X_train, y_train = Variable(X_train), Variable(y_train)\n",
    "        X_train, y_train = (X_train.cuda(), y_train.cuda()) if cuda else (X_train, y_train)\n",
    "        \n",
    "        optimizer.zero_grad()\n",
    "        y_pred = cnn(X_train)\n",
    "        loss   = criterion(y_pred, y_train)\n",
    "        loss.backward()\n",
    "        optimizer.step()\n",
    "        \n",
    "        running_loss += loss\n",
    "        if j % print_int == 0:\n",
    "            train_loss, train_acc = validate_model(True)\n",
    "            val_loss, val_acc     = validate_model(False)\n",
    "            print(\n",
    "                f'[{i + 1:<3}|{j:6}]'\n",
    "                f'running_loss={running_loss.data[0] / (print_int if j != 0 else 1):.3f}, '\n",
    "                f'train: loss={train_loss:.5f}, acc={train_acc:.2f}%|'\n",
    "                f'val: loss={val_loss:.5f}, acc={val_acc:.2f}%'\n",
    "            )\n",
    "            running_loss = 0"
   ]
  }
 ],
 "metadata": {
  "kernelspec": {
   "display_name": "Python 3",
   "language": "python",
   "name": "python3"
  },
  "language_info": {
   "codemirror_mode": {
    "name": "ipython",
    "version": 3
   },
   "file_extension": ".py",
   "mimetype": "text/x-python",
   "name": "python",
   "nbconvert_exporter": "python",
   "pygments_lexer": "ipython3",
   "version": "3.6.4"
  }
 },
 "nbformat": 4,
 "nbformat_minor": 2
}
