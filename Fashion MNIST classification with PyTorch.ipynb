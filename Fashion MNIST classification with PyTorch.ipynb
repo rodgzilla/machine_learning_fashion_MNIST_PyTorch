{
 "cells": [
  {
   "cell_type": "code",
   "execution_count": 1,
   "metadata": {},
   "outputs": [],
   "source": [
    "%matplotlib inline\n",
    "import torch\n",
    "import torchvision\n",
    "import torchvision.transforms as transforms\n",
    "import torch.nn               as nn\n",
    "import torch.nn.functional    as F\n",
    "import torch.optim            as optim\n",
    "from torch.autograd import Variable\n",
    "\n",
    "import matplotlib.pyplot as plt\n",
    "import numpy as np"
   ]
  },
  {
   "cell_type": "code",
   "execution_count": 2,
   "metadata": {},
   "outputs": [],
   "source": [
    "cuda = True"
   ]
  },
  {
   "cell_type": "code",
   "execution_count": 3,
   "metadata": {},
   "outputs": [],
   "source": [
    "batch_size = 256"
   ]
  },
  {
   "cell_type": "code",
   "execution_count": 4,
   "metadata": {},
   "outputs": [],
   "source": [
    "transform = transforms.Compose([\n",
    "    transforms.RandomHorizontalFlip(),\n",
    "    transforms.ColorJitter(),\n",
    "    transforms.RandomRotation(35),\n",
    "    transforms.ToTensor(),\n",
    "    transforms.Normalize((0.5,), (0.5,))\n",
    "])"
   ]
  },
  {
   "cell_type": "code",
   "execution_count": 5,
   "metadata": {},
   "outputs": [],
   "source": [
    "trainset = torchvision.datasets.FashionMNIST(\n",
    "    root      = './data/', \n",
    "    train     = True,\n",
    "    download  = True,\n",
    "    transform = transform\n",
    ")\n",
    "trainloader = torch.utils.data.DataLoader(\n",
    "    dataset     = trainset,\n",
    "    batch_size  = batch_size,\n",
    "    shuffle     = True,\n",
    "    num_workers = 2\n",
    ")\n",
    "testset = torchvision.datasets.FashionMNIST(\n",
    "    root      = './data/', \n",
    "    train     = False,\n",
    "    download  = True,\n",
    "    transform = transform\n",
    ")\n",
    "testloader = torch.utils.data.DataLoader(\n",
    "    dataset     = testset,\n",
    "    batch_size  = batch_size,\n",
    "    shuffle     = True,\n",
    "    num_workers = 2\n",
    ")\n",
    "classes = (\n",
    "    'top',\n",
    "    'trouser',\n",
    "    'pullover',\n",
    "    'dress',\n",
    "    'coat',\n",
    "    'sandal',\n",
    "    'shirt',\n",
    "    'sneaker',\n",
    "    'bag',\n",
    "    'boot'\n",
    ")"
   ]
  },
  {
   "cell_type": "code",
   "execution_count": 6,
   "metadata": {},
   "outputs": [],
   "source": [
    "def imshow(img):\n",
    "    img = img / 2 + 0.5\n",
    "    npimg = img.numpy()\n",
    "    plt.imshow(np.transpose(npimg, (1, 2, 0)))"
   ]
  },
  {
   "cell_type": "code",
   "execution_count": 7,
   "metadata": {},
   "outputs": [],
   "source": [
    "dataiter       = iter(trainloader)\n",
    "images, labels = dataiter.next()"
   ]
  },
  {
   "cell_type": "code",
   "execution_count": 8,
   "metadata": {},
   "outputs": [
    {
     "data": {
      "image/png": "[encoded data removed]",
      "text/plain": [
       "<matplotlib.figure.Figure at 0x7fc54d9862b0>"
      ]
     },
     "metadata": {},
     "output_type": "display_data"
    }
   ],
   "source": [
    "imshow(torchvision.utils.make_grid(images))"
   ]
  },
  {
   "cell_type": "code",
   "execution_count": 9,
   "metadata": {},
   "outputs": [
    {
     "data": {
      "text/plain": [
       "'trouser, boot, trouser, bag, dress, trouser, sandal, dress, top, bag, sandal, coat, dress, sneaker, boot, pullover, dress, trouser, sneaker, sandal, dress, sandal, dress, shirt, boot, dress, coat, boot, coat, sneaker, dress, trouser, bag, bag, boot, trouser, sneaker, sandal, sneaker, dress, bag, pullover, sneaker, pullover, pullover, trouser, boot, trouser, sandal, bag, boot, coat, coat, pullover, boot, coat, bag, trouser, dress, sneaker, coat, trouser, sneaker, sneaker, shirt, top, shirt, bag, top, dress, sneaker, pullover, trouser, dress, top, sneaker, top, shirt, pullover, boot, bag, shirt, coat, trouser, dress, bag, shirt, sneaker, shirt, bag, sandal, pullover, sandal, top, trouser, sandal, dress, coat, top, boot, coat, bag, dress, boot, bag, shirt, boot, top, sneaker, trouser, coat, trouser, pullover, trouser, bag, shirt, bag, boot, top, sandal, trouser, sneaker, coat, shirt, sneaker, coat, trouser, sneaker, trouser, bag, trouser, boot, pullover, trouser, dress, trouser, boot, trouser, bag, boot, sandal, boot, bag, pullover, shirt, pullover, boot, sneaker, top, boot, coat, bag, sandal, coat, sandal, sneaker, top, sneaker, top, dress, top, shirt, top, coat, sandal, coat, sandal, top, trouser, bag, top, dress, top, shirt, pullover, bag, bag, top, top, pullover, bag, trouser, coat, sandal, coat, trouser, sandal, dress, trouser, sneaker, shirt, pullover, sneaker, shirt, boot, top, coat, coat, trouser, dress, trouser, boot, sandal, sneaker, sandal, dress, boot, dress, boot, boot, boot, shirt, sneaker, shirt, dress, dress, dress, top, coat, trouser, sneaker, sandal, shirt, trouser, sandal, top, trouser, top, sandal, shirt, sandal, top, top, coat, top, dress, coat, top, pullover, shirt, sandal, sneaker, coat, sneaker, sneaker, top, sandal, top, pullover, shirt, boot, sneaker, boot, sandal, sandal, coat'"
      ]
     },
     "execution_count": 9,
     "metadata": {},
     "output_type": "execute_result"
    }
   ],
   "source": [
    "', '.join(classes[c] for c in labels)"
   ]
  },
  {
   "cell_type": "code",
   "execution_count": 10,
   "metadata": {},
   "outputs": [],
   "source": [
    "class CNN(nn.Module):\n",
    "    def __init__(self):\n",
    "        super(CNN, self).__init__()\n",
    "        self.conv1 = nn.Conv2d(1  , 64 , 3, padding = 1)\n",
    "        self.conv2 = nn.Conv2d(64 , 64 , 3, padding = 1)\n",
    "        self.conv3 = nn.Conv2d(64 , 64 , 3, padding = 1)\n",
    "        self.conv4 = nn.Conv2d(64 , 128 , 3, padding = 1)\n",
    "        self.conv5 = nn.Conv2d(128, 128, 3, padding = 1)\n",
    "        self.conv6 = nn.Conv2d(128, 128, 3, padding = 1)\n",
    "        self.fc1   = nn.Linear(128 * 7 * 7, 512)\n",
    "        self.fc2   = nn.Linear(512, 512)\n",
    "        self.fc3   = nn.Linear(512, 512)\n",
    "        self.fc4   = nn.Linear(512, 10)\n",
    "        self.bn1   = nn.BatchNorm2d(64)\n",
    "        self.bn2   = nn.BatchNorm2d(64)\n",
    "        self.bn3   = nn.BatchNorm2d(64)\n",
    "        self.bn4   = nn.BatchNorm2d(128)\n",
    "        self.bn5   = nn.BatchNorm2d(128)\n",
    "        self.bn6   = nn.BatchNorm2d(128)\n",
    "        self.bn7   = nn.BatchNorm1d(512)\n",
    "        self.bn8   = nn.BatchNorm1d(512)\n",
    "        self.bn9   = nn.BatchNorm1d(512)\n",
    "        \n",
    "    def forward(self, x):\n",
    "        x = F.dropout(F.relu(self.bn1(self.conv1(x))), 0.7)\n",
    "        x = F.dropout(F.relu(self.bn2(self.conv2(x))), 0.7)\n",
    "        x = F.dropout(F.relu(self.bn3(self.conv3(x))), 0.7)\n",
    "        x = F.max_pool2d(x, (2, 2))\n",
    "        x = F.dropout(F.relu(self.bn4(self.conv4(x))), 0.5)\n",
    "        x = F.dropout(F.relu(self.bn5(self.conv5(x))), 0.5)\n",
    "        x = F.dropout(F.relu(self.bn6(self.conv6(x))), 0.5)\n",
    "        x = F.max_pool2d(x, (2, 2))\n",
    "        x = x.view(-1, 128 * 7 * 7)\n",
    "        x = F.dropout(F.relu(self.bn7(self.fc1(x))), 0.3)\n",
    "        x = F.dropout(F.relu(self.bn8(self.fc2(x))), 0.3)\n",
    "        x = F.dropout(F.relu(self.bn9(self.fc3(x))), 0.3)\n",
    "        x = self.fc4(x)\n",
    "        \n",
    "        return x"
   ]
  },
  {
   "cell_type": "code",
   "execution_count": 11,
   "metadata": {},
   "outputs": [],
   "source": [
    "cnn       = CNN().cuda() if cuda else CNN()\n",
    "criterion = nn.CrossEntropyLoss()\n",
    "optimizer = optim.Adam(cnn.parameters())\n",
    "epoch     = 30\n",
    "print_int = 100"
   ]
  },
  {
   "cell_type": "code",
   "execution_count": 12,
   "metadata": {},
   "outputs": [],
   "source": [
    "def validate_model(train = True):\n",
    "    cnn.eval()\n",
    "    total_loss            = 0.0\n",
    "    total_prediction      = 0\n",
    "    total_good_prediction = 0\n",
    "    batch_number          = 0\n",
    "    for X, y in trainloader if train else testloader:\n",
    "        X, y = Variable(X), Variable(y)\n",
    "        X, y = (X.cuda(), y.cuda()) if cuda else (X, y)\n",
    "\n",
    "        y_pred                 = cnn(X)\n",
    "        total_loss            += criterion(y_pred, y).data[0]\n",
    "        total_prediction      += y_pred.size()[0]\n",
    "        total_good_prediction += (y_pred.max(dim = 1)[1].data.cpu() == y.data.cpu()).sum()\n",
    "        batch_number          += 1\n",
    "    \n",
    "    return total_loss / batch_number, 100 * total_good_prediction / total_prediction "
   ]
  },
  {
   "cell_type": "code",
   "execution_count": 13,
   "metadata": {},
   "outputs": [
    {
     "name": "stdout",
     "output_type": "stream",
     "text": [
      "[1  |     0] running_loss: 2.337, train_loss: 2.30303, train_acc: 10.00% val_loss: 2.30266, val_acc: 10.00%\n",
      "[1  |   100] running_loss: 0.600, train_loss: 0.72202, train_acc: 74.91% val_loss: 0.74201, val_acc: 74.37%\n",
      "[1  |   200] running_loss: 0.413, train_loss: 0.37430, train_acc: 86.47% val_loss: 0.40313, val_acc: 85.54%\n",
      "[2  |     0] running_loss: 0.459, train_loss: 0.40915, train_acc: 84.83% val_loss: 0.44199, val_acc: 83.76%\n",
      "[2  |   100] running_loss: 0.343, train_loss: 0.31820, train_acc: 88.28% val_loss: 0.35467, val_acc: 87.24%\n",
      "[2  |   200] running_loss: 0.325, train_loss: 0.31583, train_acc: 88.54% val_loss: 0.34954, val_acc: 87.10%\n",
      "[3  |     0] running_loss: 0.303, train_loss: 0.35360, train_acc: 87.05% val_loss: 0.37174, val_acc: 86.13%\n",
      "[3  |   100] running_loss: 0.292, train_loss: 0.29176, train_acc: 89.21% val_loss: 0.32255, val_acc: 88.19%\n",
      "[3  |   200] running_loss: 0.291, train_loss: 0.26319, train_acc: 90.25% val_loss: 0.29876, val_acc: 88.92%\n",
      "[4  |     0] running_loss: 0.294, train_loss: 0.25908, train_acc: 90.51% val_loss: 0.29438, val_acc: 89.10%\n",
      "[4  |   100] running_loss: 0.269, train_loss: 0.26297, train_acc: 90.22% val_loss: 0.28705, val_acc: 89.36%\n",
      "[4  |   200] running_loss: 0.268, train_loss: 0.27707, train_acc: 89.47% val_loss: 0.31120, val_acc: 88.07%\n",
      "[5  |     0] running_loss: 0.217, train_loss: 0.24697, train_acc: 90.85% val_loss: 0.28762, val_acc: 89.28%\n",
      "[5  |   100] running_loss: 0.249, train_loss: 0.24701, train_acc: 90.91% val_loss: 0.28696, val_acc: 89.95%\n",
      "[5  |   200] running_loss: 0.245, train_loss: 0.22723, train_acc: 91.67% val_loss: 0.26542, val_acc: 90.14%\n",
      "[6  |     0] running_loss: 0.291, train_loss: 0.23723, train_acc: 91.33% val_loss: 0.26649, val_acc: 90.16%\n",
      "[6  |   100] running_loss: 0.240, train_loss: 0.22984, train_acc: 91.58% val_loss: 0.26635, val_acc: 90.12%\n",
      "[6  |   200] running_loss: 0.234, train_loss: 0.23204, train_acc: 91.58% val_loss: 0.27972, val_acc: 90.42%\n",
      "[7  |     0] running_loss: 0.202, train_loss: 0.23025, train_acc: 91.55% val_loss: 0.26269, val_acc: 90.33%\n",
      "[7  |   100] running_loss: 0.220, train_loss: 0.22423, train_acc: 91.71% val_loss: 0.26302, val_acc: 90.27%\n",
      "[7  |   200] running_loss: 0.228, train_loss: 0.21740, train_acc: 92.03% val_loss: 0.26104, val_acc: 90.44%\n",
      "[8  |     0] running_loss: 0.148, train_loss: 0.20645, train_acc: 92.45% val_loss: 0.25427, val_acc: 91.00%\n",
      "[8  |   100] running_loss: 0.215, train_loss: 0.20623, train_acc: 92.37% val_loss: 0.25495, val_acc: 90.65%\n",
      "[8  |   200] running_loss: 0.213, train_loss: 0.20586, train_acc: 92.41% val_loss: 0.25539, val_acc: 90.97%\n",
      "[9  |     0] running_loss: 0.220, train_loss: 0.20166, train_acc: 92.57% val_loss: 0.24278, val_acc: 91.19%\n",
      "[9  |   100] running_loss: 0.204, train_loss: 0.22828, train_acc: 91.55% val_loss: 0.27612, val_acc: 89.85%\n",
      "[9  |   200] running_loss: 0.207, train_loss: 0.18628, train_acc: 93.09% val_loss: 0.23870, val_acc: 91.26%\n",
      "[10 |     0] running_loss: 0.149, train_loss: 0.19883, train_acc: 92.51% val_loss: 0.24609, val_acc: 90.96%\n",
      "[10 |   100] running_loss: 0.201, train_loss: 0.19131, train_acc: 92.82% val_loss: 0.24610, val_acc: 90.88%\n",
      "[10 |   200] running_loss: 0.195, train_loss: 0.18906, train_acc: 93.14% val_loss: 0.24244, val_acc: 91.24%\n",
      "[11 |     0] running_loss: 0.171, train_loss: 0.18969, train_acc: 92.93% val_loss: 0.24797, val_acc: 91.01%\n",
      "[11 |   100] running_loss: 0.186, train_loss: 0.18343, train_acc: 93.17% val_loss: 0.23195, val_acc: 91.59%\n",
      "[11 |   200] running_loss: 0.189, train_loss: 0.18616, train_acc: 93.08% val_loss: 0.23307, val_acc: 91.08%\n",
      "[12 |     0] running_loss: 0.235, train_loss: 0.18019, train_acc: 93.30% val_loss: 0.23332, val_acc: 91.47%\n",
      "[12 |   100] running_loss: 0.185, train_loss: 0.18098, train_acc: 93.35% val_loss: 0.23690, val_acc: 91.59%\n",
      "[12 |   200] running_loss: 0.184, train_loss: 0.21161, train_acc: 92.27% val_loss: 0.26691, val_acc: 90.96%\n",
      "[13 |     0] running_loss: 0.114, train_loss: 0.17541, train_acc: 93.44% val_loss: 0.23317, val_acc: 91.64%\n",
      "[13 |   100] running_loss: 0.176, train_loss: 0.17194, train_acc: 93.67% val_loss: 0.23410, val_acc: 91.64%\n",
      "[13 |   200] running_loss: 0.180, train_loss: 0.16375, train_acc: 93.89% val_loss: 0.23197, val_acc: 91.88%\n",
      "[14 |     0] running_loss: 0.120, train_loss: 0.17505, train_acc: 93.48% val_loss: 0.23875, val_acc: 91.58%\n",
      "[14 |   100] running_loss: 0.172, train_loss: 0.16228, train_acc: 94.00% val_loss: 0.21793, val_acc: 92.10%\n",
      "[14 |   200] running_loss: 0.171, train_loss: 0.16629, train_acc: 93.82% val_loss: 0.22685, val_acc: 91.96%\n",
      "[15 |     0] running_loss: 0.194, train_loss: 0.17605, train_acc: 93.53% val_loss: 0.23734, val_acc: 91.36%\n",
      "[15 |   100] running_loss: 0.166, train_loss: 0.16255, train_acc: 94.01% val_loss: 0.22126, val_acc: 92.21%\n",
      "[15 |   200] running_loss: 0.169, train_loss: 0.16717, train_acc: 93.86% val_loss: 0.23281, val_acc: 92.07%\n",
      "[16 |     0] running_loss: 0.136, train_loss: 0.15156, train_acc: 94.36% val_loss: 0.22522, val_acc: 91.93%\n",
      "[16 |   100] running_loss: 0.161, train_loss: 0.16285, train_acc: 93.88% val_loss: 0.22751, val_acc: 92.00%\n",
      "[16 |   200] running_loss: 0.167, train_loss: 0.15778, train_acc: 94.15% val_loss: 0.23069, val_acc: 91.89%\n",
      "[17 |     0] running_loss: 0.165, train_loss: 0.15180, train_acc: 94.39% val_loss: 0.22504, val_acc: 92.51%\n",
      "[17 |   100] running_loss: 0.161, train_loss: 0.14829, train_acc: 94.61% val_loss: 0.20888, val_acc: 92.57%\n",
      "[17 |   200] running_loss: 0.159, train_loss: 0.16190, train_acc: 93.92% val_loss: 0.23832, val_acc: 91.63%\n",
      "[18 |     0] running_loss: 0.103, train_loss: 0.14535, train_acc: 94.61% val_loss: 0.21933, val_acc: 92.54%\n",
      "[18 |   100] running_loss: 0.153, train_loss: 0.15519, train_acc: 94.23% val_loss: 0.22750, val_acc: 92.10%\n",
      "[18 |   200] running_loss: 0.156, train_loss: 0.14966, train_acc: 94.40% val_loss: 0.22088, val_acc: 92.06%\n",
      "[19 |     0] running_loss: 0.138, train_loss: 0.14118, train_acc: 94.81% val_loss: 0.20991, val_acc: 92.35%\n",
      "[19 |   100] running_loss: 0.152, train_loss: 0.14657, train_acc: 94.67% val_loss: 0.21831, val_acc: 92.38%\n",
      "[19 |   200] running_loss: 0.153, train_loss: 0.13910, train_acc: 94.72% val_loss: 0.21349, val_acc: 92.43%\n",
      "[20 |     0] running_loss: 0.226, train_loss: 0.14670, train_acc: 94.41% val_loss: 0.22300, val_acc: 92.06%\n",
      "[20 |   100] running_loss: 0.145, train_loss: 0.14073, train_acc: 94.64% val_loss: 0.21506, val_acc: 92.67%\n",
      "[20 |   200] running_loss: 0.147, train_loss: 0.14292, train_acc: 94.63% val_loss: 0.22056, val_acc: 92.27%\n",
      "[21 |     0] running_loss: 0.152, train_loss: 0.13178, train_acc: 95.19% val_loss: 0.23260, val_acc: 92.61%\n",
      "[21 |   100] running_loss: 0.142, train_loss: 0.13519, train_acc: 94.94% val_loss: 0.21281, val_acc: 92.37%\n",
      "[21 |   200] running_loss: 0.144, train_loss: 0.13250, train_acc: 95.17% val_loss: 0.21481, val_acc: 92.56%\n",
      "[22 |     0] running_loss: 0.164, train_loss: 0.13860, train_acc: 94.83% val_loss: 0.22389, val_acc: 92.43%\n",
      "[22 |   100] running_loss: 0.139, train_loss: 0.13845, train_acc: 94.87% val_loss: 0.22286, val_acc: 92.48%\n",
      "[22 |   200] running_loss: 0.141, train_loss: 0.13050, train_acc: 95.15% val_loss: 0.21262, val_acc: 92.59%\n",
      "[23 |     0] running_loss: 0.121, train_loss: 0.12599, train_acc: 95.35% val_loss: 0.21223, val_acc: 92.80%\n",
      "[23 |   100] running_loss: 0.133, train_loss: 0.12627, train_acc: 95.31% val_loss: 0.21407, val_acc: 92.47%\n",
      "[23 |   200] running_loss: 0.138, train_loss: 0.12562, train_acc: 95.33% val_loss: 0.21297, val_acc: 92.54%\n",
      "[24 |     0] running_loss: 0.130, train_loss: 0.11896, train_acc: 95.57% val_loss: 0.20999, val_acc: 92.87%\n",
      "[24 |   100] running_loss: 0.124, train_loss: 0.11753, train_acc: 95.65% val_loss: 0.22535, val_acc: 92.67%\n",
      "[24 |   200] running_loss: 0.133, train_loss: 0.12411, train_acc: 95.29% val_loss: 0.21701, val_acc: 92.74%\n",
      "[25 |     0] running_loss: 0.188, train_loss: 0.12514, train_acc: 95.34% val_loss: 0.21596, val_acc: 92.49%\n",
      "[25 |   100] running_loss: 0.127, train_loss: 0.11391, train_acc: 95.75% val_loss: 0.20343, val_acc: 93.02%\n",
      "[25 |   200] running_loss: 0.126, train_loss: 0.11849, train_acc: 95.54% val_loss: 0.21452, val_acc: 92.70%\n",
      "[26 |     0] running_loss: 0.157, train_loss: 0.11617, train_acc: 95.63% val_loss: 0.22968, val_acc: 92.59%\n"
     ]
    },
    {
     "name": "stdout",
     "output_type": "stream",
     "text": [
      "[26 |   100] running_loss: 0.122, train_loss: 0.12021, train_acc: 95.48% val_loss: 0.23731, val_acc: 92.42%\n",
      "[26 |   200] running_loss: 0.124, train_loss: 0.12686, train_acc: 95.23% val_loss: 0.22560, val_acc: 92.22%\n",
      "[27 |     0] running_loss: 0.104, train_loss: 0.11333, train_acc: 95.78% val_loss: 0.22209, val_acc: 92.72%\n",
      "[27 |   100] running_loss: 0.121, train_loss: 0.11810, train_acc: 95.58% val_loss: 0.21930, val_acc: 92.73%\n",
      "[27 |   200] running_loss: 0.118, train_loss: 0.10842, train_acc: 96.00% val_loss: 0.20476, val_acc: 92.95%\n",
      "[28 |     0] running_loss: 0.083, train_loss: 0.11513, train_acc: 95.63% val_loss: 0.21145, val_acc: 92.70%\n",
      "[28 |   100] running_loss: 0.115, train_loss: 0.11202, train_acc: 95.83% val_loss: 0.22761, val_acc: 92.45%\n",
      "[28 |   200] running_loss: 0.117, train_loss: 0.10537, train_acc: 96.16% val_loss: 0.21100, val_acc: 92.72%\n",
      "[29 |     0] running_loss: 0.057, train_loss: 0.10481, train_acc: 96.07% val_loss: 0.21196, val_acc: 93.03%\n",
      "[29 |   100] running_loss: 0.110, train_loss: 0.10470, train_acc: 96.14% val_loss: 0.20960, val_acc: 93.00%\n",
      "[29 |   200] running_loss: 0.110, train_loss: 0.10255, train_acc: 96.21% val_loss: 0.23220, val_acc: 92.75%\n",
      "[30 |     0] running_loss: 0.108, train_loss: 0.10265, train_acc: 96.23% val_loss: 0.21405, val_acc: 92.97%\n",
      "[30 |   100] running_loss: 0.106, train_loss: 0.10632, train_acc: 95.98% val_loss: 0.22332, val_acc: 92.76%\n",
      "[30 |   200] running_loss: 0.109, train_loss: 0.10310, train_acc: 96.11% val_loss: 0.22480, val_acc: 92.67%\n"
     ]
    }
   ],
   "source": [
    "for i in range(epoch):\n",
    "    running_loss = 0\n",
    "    for j, (X_train, y_train) in enumerate(trainloader):\n",
    "        cnn.train()\n",
    "        X_train, y_train = Variable(X_train), Variable(y_train)\n",
    "        X_train, y_train = (X_train.cuda(), y_train.cuda()) if cuda else (X_train, y_train)\n",
    "        \n",
    "        optimizer.zero_grad()\n",
    "        y_pred = cnn(X_train)\n",
    "        loss   = criterion(y_pred, y_train)\n",
    "        loss.backward()\n",
    "        optimizer.step()\n",
    "        \n",
    "        running_loss += loss\n",
    "        if j % print_int == 0:\n",
    "            train_loss, train_acc = validate_model(True)\n",
    "            val_loss, val_acc = validate_model(False)\n",
    "            print(\n",
    "                f'[{i + 1:<3}|{j:6}] running_loss: {running_loss.data[0] / (print_int if j != 0 else 1):.3f}, '\n",
    "                f'train_loss: {train_loss:.5f}, '\n",
    "                f'train_acc: {train_acc:.2f}% '\n",
    "                f'val_loss: {val_loss:.5f}, '\n",
    "                f'val_acc: {val_acc:.2f}%'\n",
    "            )\n",
    "            running_loss = 0"
   ]
  }
 ],
 "metadata": {
  "kernelspec": {
   "display_name": "Python 3",
   "language": "python",
   "name": "python3"
  },
  "language_info": {
   "codemirror_mode": {
    "name": "ipython",
    "version": 3
   },
   "file_extension": ".py",
   "mimetype": "text/x-python",
   "name": "python",
   "nbconvert_exporter": "python",
   "pygments_lexer": "ipython3",
   "version": "3.6.4"
  }
 },
 "nbformat": 4,
 "nbformat_minor": 2
}
